{
 "cells": [
  {
   "cell_type": "code",
   "execution_count": 1,
   "metadata": {},
   "outputs": [],
   "source": [
    "import pandas as pd\n",
    "import numpy as np\n",
    "import os"
   ]
  },
  {
   "cell_type": "code",
   "execution_count": 2,
   "metadata": {},
   "outputs": [],
   "source": [
    "os.chdir(\"/Users/edwardgan/Documents/Projects/sketchstore/python\")"
   ]
  },
  {
   "cell_type": "code",
   "execution_count": 3,
   "metadata": {},
   "outputs": [],
   "source": [
    "import testdata.bench_gen"
   ]
  },
  {
   "cell_type": "code",
   "execution_count": 4,
   "metadata": {},
   "outputs": [],
   "source": [
    "def sample_until_lazy(xs, size, seed=0):\n",
    "    r = np.random.RandomState(seed)\n",
    "    i = 0\n",
    "    res = set()\n",
    "    while len(res) < size and len(xs) > 0:\n",
    "        new_x = r.choice(xs)\n",
    "        res.add(new_x)\n",
    "        i += 1\n",
    "        if i % 1000 == 0:\n",
    "            xs = xs[np.isin(xs, res, invert=True)]\n",
    "    return list(res)"
   ]
  },
  {
   "cell_type": "code",
   "execution_count": null,
   "metadata": {},
   "outputs": [],
   "source": [
    "df, dim_names = testdata.bench_gen.gen_data(\n",
    "    10_000_000,\n",
    "    [(10, 1),\n",
    "     (5, 1),\n",
    "     (2, 1),\n",
    "     (2, 1),\n",
    "     ],\n",
    "    f_skew=1.1,\n",
    "    f_card=50000,\n",
    "    seed=0,\n",
    ")"
   ]
  },
  {
   "cell_type": "code",
   "execution_count": null,
   "metadata": {},
   "outputs": [],
   "source": [
    "df.to_feather(\"/Users/edwardgan/Documents/Projects/datasets/sketchstore_synth/cube4_10M.feather\")"
   ]
  },
  {
   "cell_type": "code",
   "execution_count": 4,
   "metadata": {},
   "outputs": [],
   "source": [
    "df, dim_names = testdata.bench_gen.gen_data(\n",
    "    10_000_000,\n",
    "    [(10, 1),\n",
    "     (10, 1),\n",
    "     (10, 1),\n",
    "     (10, 1),\n",
    "     ],\n",
    "    f_skew=1.1,\n",
    "    f_card=50000,\n",
    "    seed=0,\n",
    ")"
   ]
  },
  {
   "cell_type": "code",
   "execution_count": 5,
   "metadata": {},
   "outputs": [],
   "source": [
    "df.to_feather(\"/Users/edwardgan/Documents/Projects/datasets/sketchstore_synth/bcube4_10M.feather\")"
   ]
  },
  {
   "cell_type": "code",
   "execution_count": 5,
   "metadata": {},
   "outputs": [
    {
     "name": "stderr",
     "output_type": "stream",
     "text": [
      "/anaconda3/lib/python3.6/site-packages/pandas/io/feather_format.py:117: FutureWarning: `nthreads` argument is deprecated, pass `use_threads` instead\n",
      "  return feather.read_feather(path, columns=columns, nthreads=int_use_threads)\n",
      "/anaconda3/lib/python3.6/site-packages/pyarrow/pandas_compat.py:751: FutureWarning: .labels was deprecated in version 0.24.0. Use .codes instead.\n",
      "  labels, = index.labels\n"
     ]
    }
   ],
   "source": [
    "df = pd.read_feather(\"/Users/edwardgan/Documents/Projects/datasets/sketchstore_synth/bcube4_10M.feather\")"
   ]
  },
  {
   "cell_type": "code",
   "execution_count": 10,
   "metadata": {},
   "outputs": [],
   "source": [
    "x_track = sample_until_lazy(df[\"f\"], size=200, seed=0)\n",
    "df_track = pd.DataFrame({\n",
    "    \"x_track\": x_track,\n",
    "})\n",
    "df_track.to_csv(\n",
    "    \"/Users/edwardgan/Documents/Projects/datasets/sketchstore_synth/bcube4_10M_f_track.csv\", \n",
    "    index=False,\n",
    ")"
   ]
  },
  {
   "cell_type": "code",
   "execution_count": 13,
   "metadata": {},
   "outputs": [],
   "source": [
    "x_track = np.percentile(df[\"q\"], np.arange(0,101))\n",
    "df_track = pd.DataFrame({\n",
    "    \"x_track\": x_track,\n",
    "})\n",
    "df_track.to_csv(\n",
    "    \"/Users/edwardgan/Documents/Projects/datasets/sketchstore_synth/bcube4_10M_q_track.csv\", \n",
    "    index=False,\n",
    ")"
   ]
  },
  {
   "cell_type": "code",
   "execution_count": null,
   "metadata": {},
   "outputs": [],
   "source": []
  }
 ],
 "metadata": {
  "kernelspec": {
   "display_name": "Python 3",
   "language": "python",
   "name": "python3"
  },
  "language_info": {
   "codemirror_mode": {
    "name": "ipython",
    "version": 3
   },
   "file_extension": ".py",
   "mimetype": "text/x-python",
   "name": "python",
   "nbconvert_exporter": "python",
   "pygments_lexer": "ipython3",
   "version": "3.6.8"
  }
 },
 "nbformat": 4,
 "nbformat_minor": 4
}
