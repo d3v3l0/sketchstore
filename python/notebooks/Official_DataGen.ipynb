{
 "cells": [
  {
   "cell_type": "code",
   "execution_count": 5,
   "metadata": {},
   "outputs": [],
   "source": [
    "import pandas as pd\n",
    "import numpy as np\n",
    "import os\n",
    "from tqdm import tqdm_notebook as tqdm"
   ]
  },
  {
   "cell_type": "code",
   "execution_count": 2,
   "metadata": {},
   "outputs": [],
   "source": [
    "os.chdir(\"/home/edgan/projects/sketchstore/python\")\n",
    "DATA_DIR = \"/mnt/disks/data/datasets/\""
   ]
  },
  {
   "cell_type": "code",
   "execution_count": 3,
   "metadata": {},
   "outputs": [],
   "source": [
    "def sample_until_lazy(xs, size, seed=0):\n",
    "    r = np.random.RandomState(seed)\n",
    "    i = 0\n",
    "    res = set()\n",
    "    while len(res) < size and len(xs) > 0:\n",
    "        new_x = r.choice(xs)\n",
    "        res.add(new_x)\n",
    "        i += 1\n",
    "        if i % 1000 == 0:\n",
    "            xs = xs[np.isin(xs, res, invert=True)]\n",
    "    return list(res)"
   ]
  },
  {
   "cell_type": "markdown",
   "metadata": {},
   "source": [
    "# Zipf Big"
   ]
  },
  {
   "cell_type": "code",
   "execution_count": null,
   "metadata": {},
   "outputs": [],
   "source": [
    "fname = os.path.join(DATA_DIR, \"zipfbig/zipf10M.csv\")\n",
    "tname = os.path.join(DATA_DIR, \"zipfbig/zipf10M-xtrack.csv\")"
   ]
  },
  {
   "cell_type": "code",
   "execution_count": 10,
   "metadata": {},
   "outputs": [
    {
     "data": {
      "application/vnd.jupyter.widget-view+json": {
       "model_id": "ddf9120fc7274dafa9e73643af2f3b93",
       "version_major": 2,
       "version_minor": 0
      },
      "text/plain": [
       "HBox(children=(IntProgress(value=0, max=5), HTML(value='')))"
      ]
     },
     "metadata": {},
     "output_type": "display_data"
    },
    {
     "name": "stdout",
     "output_type": "stream",
     "text": [
      "\n"
     ]
    }
   ],
   "source": [
    "r = np.random.RandomState(seed=0)\n",
    "chunk_size = 10_000_000\n",
    "n_chunks = 5\n",
    "n_max = 100_000_000\n",
    "for i in tqdm(range(n_chunks)):\n",
    "    x_stream = r.zipf(1.1, size=2*chunk_size)\n",
    "    x_stream = x_stream[x_stream < n_max][:chunk_size]\n",
    "    use_header = False\n",
    "    if i == 0:\n",
    "        use_header = True\n",
    "    fname = os.path.join(DATA_DIR, \"zipfbig/zipf-{}.csv\".format(i))\n",
    "    pd.DataFrame({\"x\": x_stream}).to_csv(fname, index=False, header=use_header)"
   ]
  },
  {
   "cell_type": "markdown",
   "metadata": {},
   "source": [
    "# Simple Uniform"
   ]
  },
  {
   "cell_type": "code",
   "execution_count": 12,
   "metadata": {},
   "outputs": [],
   "source": [
    "xtrack = np.linspace(0, 1, 101)\n",
    "df_xtrack = pd.DataFrame({\"x_track\": xtrack})\n",
    "fname = os.path.join(DATA_DIR, \"uniform/uniform-xtrack.csv\")\n",
    "df_xtrack.to_csv(fname, index=False)"
   ]
  },
  {
   "cell_type": "code",
   "execution_count": 13,
   "metadata": {},
   "outputs": [],
   "source": [
    "r = np.random.RandomState(0)\n",
    "xvals = r.uniform(0,1,size=1_000_000)\n",
    "df_xvals = pd.DataFrame({\"x\": xvals})\n",
    "fname = os.path.join(DATA_DIR, \"uniform/uniform.csv\")\n",
    "df_xvals.to_csv(fname, index=False)"
   ]
  },
  {
   "cell_type": "markdown",
   "metadata": {},
   "source": [
    "# Cube"
   ]
  },
  {
   "cell_type": "code",
   "execution_count": 3,
   "metadata": {},
   "outputs": [],
   "source": [
    "import testdata.bench_gen"
   ]
  },
  {
   "cell_type": "code",
   "execution_count": 12,
   "metadata": {},
   "outputs": [],
   "source": [
    "df, dim_names = testdata.bench_gen.gen_data(\n",
    "    10_000_000,\n",
    "    [(10, 1),\n",
    "     (10, 1),\n",
    "     (10, 1),\n",
    "     (10, 1),\n",
    "     ],\n",
    "    f_skew=1.1,\n",
    "    f_card=50000,\n",
    "    seed=0,\n",
    ")"
   ]
  },
  {
   "cell_type": "code",
   "execution_count": 19,
   "metadata": {},
   "outputs": [],
   "source": [
    "fname = os.path.join(DATA_DIR, \"sketchstore_synth/bcube4_10M.feather\")\n",
    "tfname = os.path.join(DATA_DIR, \"sketchstore_synth/bcube4_10M_f_track.csv\")\n",
    "tqname = os.path.join(DATA_DIR, \"sketchstore_synth/bcube4_10M_q_track.csv\")"
   ]
  },
  {
   "cell_type": "code",
   "execution_count": null,
   "metadata": {},
   "outputs": [],
   "source": [
    "df.to_feather(fname)"
   ]
  },
  {
   "cell_type": "code",
   "execution_count": 17,
   "metadata": {},
   "outputs": [],
   "source": [
    "df = pd.read_feather(fname)"
   ]
  },
  {
   "cell_type": "code",
   "execution_count": 20,
   "metadata": {},
   "outputs": [],
   "source": [
    "x_track = sample_until_lazy(df[\"f\"], size=200, seed=0)\n",
    "df_track = pd.DataFrame({\n",
    "    \"x_track\": x_track,\n",
    "})\n",
    "df_track.to_csv(\n",
    "    tfname, \n",
    "    index=False,\n",
    ")"
   ]
  },
  {
   "cell_type": "code",
   "execution_count": 21,
   "metadata": {},
   "outputs": [],
   "source": [
    "x_track = np.percentile(df[\"q\"], np.arange(0,101))\n",
    "df_track = pd.DataFrame({\n",
    "    \"x_track\": x_track,\n",
    "})\n",
    "df_track.to_csv(\n",
    "    tqname, \n",
    "    index=False,\n",
    ")"
   ]
  }
 ],
 "metadata": {
  "kernelspec": {
   "display_name": "Python 3",
   "language": "python",
   "name": "python3"
  },
  "language_info": {
   "codemirror_mode": {
    "name": "ipython",
    "version": 3
   },
   "file_extension": ".py",
   "mimetype": "text/x-python",
   "name": "python",
   "nbconvert_exporter": "python",
   "pygments_lexer": "ipython3",
   "version": "3.7.4"
  }
 },
 "nbformat": 4,
 "nbformat_minor": 4
}
