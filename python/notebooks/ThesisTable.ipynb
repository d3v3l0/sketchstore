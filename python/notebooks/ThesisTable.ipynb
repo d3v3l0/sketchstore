{
 "cells": [
  {
   "cell_type": "code",
   "execution_count": 3,
   "metadata": {},
   "outputs": [],
   "source": [
    "%config InlineBackend.figure_formats = ['svg']\n",
    "\n",
    "%matplotlib inline\n",
    "import pandas as pd\n",
    "import numpy as np\n",
    "import matplotlib\n",
    "import matplotlib.pyplot as plt\n",
    "import math\n",
    "from tqdm import tqdm_notebook as tqdm\n",
    "import pickle\n",
    "import os\n",
    "from typing import List, Dict\n",
    "import seaborn as sns\n",
    "sns.set_palette(\"colorblind\")"
   ]
  },
  {
   "cell_type": "code",
   "execution_count": 5,
   "metadata": {},
   "outputs": [],
   "source": [
    "os.chdir(\"/Users/edgan/Documents/projects/sketchstore/java/output/results\")"
   ]
  },
  {
   "cell_type": "code",
   "execution_count": 11,
   "metadata": {},
   "outputs": [],
   "source": [
    "datasets = [\n",
    "    \"l_caida_f\",\n",
    "    \"l_zipf_f\",\n",
    "    \"l_mnetwork_f\",\n",
    "    \"l_mos_f\",\n",
    "    \"l_power_q\",\n",
    "    \"l_uniform_q\",\n",
    "    \"l_mrecords_q\",\n",
    "]\n",
    "dfs = []\n",
    "for dataset in datasets:\n",
    "    cur_df = pd.read_csv(\"{}/load_time.csv\".format(dataset))\n",
    "    cur_df[\"dataset\"] = dataset\n",
    "    dfs.append(cur_df)\n",
    "df = pd.concat(dfs)"
   ]
  },
  {
   "cell_type": "code",
   "execution_count": 17,
   "metadata": {},
   "outputs": [],
   "source": [
    "sketch_order = [\"cooperative\", \"pps\", \"random_sample\", \"truncation\", \"dyadic_truncation\", \"yahoo_mg\", \"cms_min\", \"kll\"]"
   ]
  },
  {
   "cell_type": "code",
   "execution_count": 20,
   "metadata": {},
   "outputs": [],
   "source": [
    "df_out = df.set_index(\n",
    "    [\"dataset\", \"sketch\"])[[\"construct_time\"]].unstack(\n",
    "    [\"sketch\"]\n",
    ")[\"construct_time\"][sketch_order].loc[datasets]"
   ]
  },
  {
   "cell_type": "code",
   "execution_count": 21,
   "metadata": {},
   "outputs": [
    {
     "data": {
      "text/html": [
       "<div>\n",
       "<style scoped>\n",
       "    .dataframe tbody tr th:only-of-type {\n",
       "        vertical-align: middle;\n",
       "    }\n",
       "\n",
       "    .dataframe tbody tr th {\n",
       "        vertical-align: top;\n",
       "    }\n",
       "\n",
       "    .dataframe thead th {\n",
       "        text-align: right;\n",
       "    }\n",
       "</style>\n",
       "<table border=\"1\" class=\"dataframe\">\n",
       "  <thead>\n",
       "    <tr style=\"text-align: right;\">\n",
       "      <th>sketch</th>\n",
       "      <th>cooperative</th>\n",
       "      <th>pps</th>\n",
       "      <th>random_sample</th>\n",
       "      <th>truncation</th>\n",
       "      <th>dyadic_truncation</th>\n",
       "      <th>yahoo_mg</th>\n",
       "      <th>cms_min</th>\n",
       "      <th>kll</th>\n",
       "    </tr>\n",
       "    <tr>\n",
       "      <th>dataset</th>\n",
       "      <th></th>\n",
       "      <th></th>\n",
       "      <th></th>\n",
       "      <th></th>\n",
       "      <th></th>\n",
       "      <th></th>\n",
       "      <th></th>\n",
       "      <th></th>\n",
       "    </tr>\n",
       "  </thead>\n",
       "  <tbody>\n",
       "    <tr>\n",
       "      <th>l_caida_f</th>\n",
       "      <td>1451.028945</td>\n",
       "      <td>575.306954</td>\n",
       "      <td>625.018196</td>\n",
       "      <td>834.121103</td>\n",
       "      <td>4765.979588</td>\n",
       "      <td>723.108166</td>\n",
       "      <td>731.680253</td>\n",
       "      <td>NaN</td>\n",
       "    </tr>\n",
       "    <tr>\n",
       "      <th>l_zipf_f</th>\n",
       "      <td>1967.923912</td>\n",
       "      <td>685.552867</td>\n",
       "      <td>823.553494</td>\n",
       "      <td>845.160356</td>\n",
       "      <td>8741.631339</td>\n",
       "      <td>592.754609</td>\n",
       "      <td>792.306309</td>\n",
       "      <td>NaN</td>\n",
       "    </tr>\n",
       "    <tr>\n",
       "      <th>l_mnetwork_f</th>\n",
       "      <td>388.430982</td>\n",
       "      <td>193.761656</td>\n",
       "      <td>213.696583</td>\n",
       "      <td>285.735535</td>\n",
       "      <td>1144.214973</td>\n",
       "      <td>433.609991</td>\n",
       "      <td>716.711676</td>\n",
       "      <td>NaN</td>\n",
       "    </tr>\n",
       "    <tr>\n",
       "      <th>l_mos_f</th>\n",
       "      <td>293.811424</td>\n",
       "      <td>178.243002</td>\n",
       "      <td>217.671850</td>\n",
       "      <td>236.773680</td>\n",
       "      <td>1102.174423</td>\n",
       "      <td>248.122929</td>\n",
       "      <td>646.200616</td>\n",
       "      <td>NaN</td>\n",
       "    </tr>\n",
       "    <tr>\n",
       "      <th>l_power_q</th>\n",
       "      <td>669.543515</td>\n",
       "      <td>124.725675</td>\n",
       "      <td>176.615324</td>\n",
       "      <td>164.667600</td>\n",
       "      <td>1165.790970</td>\n",
       "      <td>NaN</td>\n",
       "      <td>NaN</td>\n",
       "      <td>148.724537</td>\n",
       "    </tr>\n",
       "    <tr>\n",
       "      <th>l_uniform_q</th>\n",
       "      <td>47357.708684</td>\n",
       "      <td>82.308956</td>\n",
       "      <td>131.877035</td>\n",
       "      <td>120.706851</td>\n",
       "      <td>949.307985</td>\n",
       "      <td>NaN</td>\n",
       "      <td>NaN</td>\n",
       "      <td>92.866086</td>\n",
       "    </tr>\n",
       "    <tr>\n",
       "      <th>l_mrecords_q</th>\n",
       "      <td>1292.691964</td>\n",
       "      <td>536.587134</td>\n",
       "      <td>603.751205</td>\n",
       "      <td>517.591831</td>\n",
       "      <td>4866.656853</td>\n",
       "      <td>NaN</td>\n",
       "      <td>NaN</td>\n",
       "      <td>610.149872</td>\n",
       "    </tr>\n",
       "  </tbody>\n",
       "</table>\n",
       "</div>"
      ],
      "text/plain": [
       "sketch         cooperative         pps  random_sample  truncation  \\\n",
       "dataset                                                             \n",
       "l_caida_f      1451.028945  575.306954     625.018196  834.121103   \n",
       "l_zipf_f       1967.923912  685.552867     823.553494  845.160356   \n",
       "l_mnetwork_f    388.430982  193.761656     213.696583  285.735535   \n",
       "l_mos_f         293.811424  178.243002     217.671850  236.773680   \n",
       "l_power_q       669.543515  124.725675     176.615324  164.667600   \n",
       "l_uniform_q   47357.708684   82.308956     131.877035  120.706851   \n",
       "l_mrecords_q   1292.691964  536.587134     603.751205  517.591831   \n",
       "\n",
       "sketch        dyadic_truncation    yahoo_mg     cms_min         kll  \n",
       "dataset                                                              \n",
       "l_caida_f           4765.979588  723.108166  731.680253         NaN  \n",
       "l_zipf_f            8741.631339  592.754609  792.306309         NaN  \n",
       "l_mnetwork_f        1144.214973  433.609991  716.711676         NaN  \n",
       "l_mos_f             1102.174423  248.122929  646.200616         NaN  \n",
       "l_power_q           1165.790970         NaN         NaN  148.724537  \n",
       "l_uniform_q          949.307985         NaN         NaN   92.866086  \n",
       "l_mrecords_q        4866.656853         NaN         NaN  610.149872  "
      ]
     },
     "execution_count": 21,
     "metadata": {},
     "output_type": "execute_result"
    }
   ],
   "source": [
    "df_out"
   ]
  },
  {
   "cell_type": "code",
   "execution_count": 24,
   "metadata": {},
   "outputs": [
    {
     "name": "stdout",
     "output_type": "stream",
     "text": [
      "\\begin{tabular}{lrrrrrrrr}\n",
      "\\toprule\n",
      "sketch &  cooperative &   pps &  random\\_sample &  truncation &  dyadic\\_truncation &  yahoo\\_mg &  cms\\_min &   kll \\\\\n",
      "dataset      &              &       &                &             &                    &           &          &       \\\\\n",
      "\\midrule\n",
      "l\\_caida\\_f    &       1451.0 & 575.3 &          625.0 &       834.1 &             4766.0 &     723.1 &    731.7 &   NaN \\\\\n",
      "l\\_zipf\\_f     &       1967.9 & 685.6 &          823.6 &       845.2 &             8741.6 &     592.8 &    792.3 &   NaN \\\\\n",
      "l\\_mnetwork\\_f &        388.4 & 193.8 &          213.7 &       285.7 &             1144.2 &     433.6 &    716.7 &   NaN \\\\\n",
      "l\\_mos\\_f      &        293.8 & 178.2 &          217.7 &       236.8 &             1102.2 &     248.1 &    646.2 &   NaN \\\\\n",
      "l\\_power\\_q    &        669.5 & 124.7 &          176.6 &       164.7 &             1165.8 &       NaN &      NaN & 148.7 \\\\\n",
      "l\\_uniform\\_q  &      47357.7 &  82.3 &          131.9 &       120.7 &              949.3 &       NaN &      NaN &  92.9 \\\\\n",
      "l\\_mrecords\\_q &       1292.7 & 536.6 &          603.8 &       517.6 &             4866.7 &       NaN &      NaN & 610.1 \\\\\n",
      "\\bottomrule\n",
      "\\end{tabular}\n",
      "\n"
     ]
    }
   ],
   "source": [
    "print(df_out.to_latex(float_format=\"%.1f\"))"
   ]
  },
  {
   "cell_type": "code",
   "execution_count": null,
   "metadata": {},
   "outputs": [],
   "source": []
  }
 ],
 "metadata": {
  "kernelspec": {
   "display_name": "Python 3",
   "language": "python",
   "name": "python3"
  },
  "language_info": {
   "codemirror_mode": {
    "name": "ipython",
    "version": 3
   },
   "file_extension": ".py",
   "mimetype": "text/x-python",
   "name": "python",
   "nbconvert_exporter": "python",
   "pygments_lexer": "ipython3",
   "version": "3.7.4"
  }
 },
 "nbformat": 4,
 "nbformat_minor": 4
}
