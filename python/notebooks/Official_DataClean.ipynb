{
 "cells": [
  {
   "cell_type": "code",
   "execution_count": 1,
   "metadata": {},
   "outputs": [],
   "source": [
    "%matplotlib inline\n",
    "import numpy as np\n",
    "import matplotlib.pyplot as plt\n",
    "import pandas as pd\n",
    "import random\n",
    "from probables import (CountMinSketch)\n",
    "from tqdm import tqdm\n",
    "from collections import defaultdict\n",
    "import math\n",
    "import heapq\n",
    "import os\n",
    "import json"
   ]
  },
  {
   "cell_type": "code",
   "execution_count": 2,
   "metadata": {},
   "outputs": [],
   "source": [
    "def sample_until(xs, size, seed=0):\n",
    "    r = np.random.RandomState(seed)\n",
    "    res = set()\n",
    "    while len(res) < size and len(xs) > 0:\n",
    "        new_x = r.choice(xs)\n",
    "        res.add(new_x)\n",
    "        xs = xs[xs != new_x]\n",
    "    return list(res)"
   ]
  },
  {
   "cell_type": "code",
   "execution_count": 3,
   "metadata": {},
   "outputs": [],
   "source": [
    "def sample_until_lazy(xs, size, seed=0):\n",
    "    r = np.random.RandomState(seed)\n",
    "    i = 0\n",
    "    res = set()\n",
    "    while len(res) < size and len(xs) > 0:\n",
    "        new_x = r.choice(xs)\n",
    "        res.add(new_x)\n",
    "        i += 1\n",
    "        if i % 1000 == 0:\n",
    "            xs = xs[np.isin(xs, res, invert=True)]\n",
    "    return list(res)"
   ]
  },
  {
   "cell_type": "markdown",
   "metadata": {},
   "source": [
    "# Microsoft"
   ]
  },
  {
   "cell_type": "code",
   "execution_count": 4,
   "metadata": {},
   "outputs": [],
   "source": [
    "df = pd.read_csv(\n",
    "\"/Users/edwardgan/Documents/Projects/datasets/msft/mb-3M-cube.csv\"\n",
    ")"
   ]
  },
  {
   "cell_type": "code",
   "execution_count": 5,
   "metadata": {},
   "outputs": [],
   "source": [
    "gs = df.groupby([\"TenantId\", \"AppInfo_Version\", \"UserInfo_TimeZone\", \"DeviceInfo_NetworkType\"])"
   ]
  },
  {
   "cell_type": "code",
   "execution_count": 82,
   "metadata": {},
   "outputs": [],
   "source": [
    "x_track = sample_until(df[\"DeviceInfo_OsBuild\"], size=200, seed=0)\n",
    "df_track = pd.DataFrame(\n",
    "    {\"x_track\": x_track}\n",
    ")\n",
    "df_track.to_csv(\"/Users/edwardgan/Documents/Projects/datasets/msft/mb-3M-os-track.csv\", index=False)"
   ]
  },
  {
   "cell_type": "code",
   "execution_count": 111,
   "metadata": {},
   "outputs": [],
   "source": [
    "x_track = sample_until_lazy(df[\"DeviceInfo_NetworkProvider\"], size=200, seed=0)\n",
    "df_track = pd.DataFrame(\n",
    "    {\"x_track\": x_track}\n",
    ")\n",
    "df_track.to_csv(\"/Users/edwardgan/Documents/Projects/datasets/msft/mb-3M-network-track.csv\", index=False)"
   ]
  },
  {
   "cell_type": "code",
   "execution_count": 48,
   "metadata": {},
   "outputs": [],
   "source": [
    "x_to_track = np.percentile(\n",
    "    df[\"records_received_count\"].dropna(),\n",
    "    q=np.arange(0,101),\n",
    ")\n",
    "df_track = pd.DataFrame(\n",
    "    {\"x_track\": x_to_track}\n",
    ")\n",
    "df_track.to_csv(\"/Users/edwardgan/Documents/Projects/datasets/msft/mb-3M-records-track.csv\", index=False)"
   ]
  },
  {
   "cell_type": "markdown",
   "metadata": {},
   "source": [
    "# Instacart Data"
   ]
  },
  {
   "cell_type": "code",
   "execution_count": 89,
   "metadata": {},
   "outputs": [],
   "source": [
    "df_orders = pd.read_csv(\n",
    "    \"/Users/edwardgan/Documents/Projects/datasets/instacart/orders.csv\"\n",
    ")\n",
    "df_op = pd.read_csv(\"/Users/edwardgan/Documents/Projects/datasets/instacart/order_products__prior.csv\")"
   ]
  },
  {
   "cell_type": "code",
   "execution_count": 90,
   "metadata": {},
   "outputs": [
    {
     "data": {
      "text/plain": [
       "Index(['order_id', 'product_id', 'add_to_cart_order', 'reordered'], dtype='object')"
      ]
     },
     "execution_count": 90,
     "metadata": {},
     "output_type": "execute_result"
    }
   ],
   "source": [
    "df_op.columns"
   ]
  },
  {
   "cell_type": "code",
   "execution_count": 91,
   "metadata": {},
   "outputs": [],
   "source": [
    "df_aisles = pd.read_csv(\"/Users/edwardgan/Documents/Projects/datasets/instacart/aisles.csv\")\n",
    "df_dept = pd.read_csv(\"/Users/edwardgan/Documents/Projects/datasets/instacart/departments.csv\")\n",
    "df_products = pd.read_csv(\"/Users/edwardgan/Documents/Projects/datasets/instacart/products.csv\")"
   ]
  },
  {
   "cell_type": "code",
   "execution_count": 92,
   "metadata": {},
   "outputs": [],
   "source": [
    "df_g = df_op[[\"order_id\", \"product_id\", \"reordered\", \"add_to_cart_order\"]].merge(\n",
    "    df_orders[[\"order_id\", \"order_dow\", \"order_hour_of_day\"]], \n",
    "    how=\"inner\", on=[\"order_id\"]\n",
    ")"
   ]
  },
  {
   "cell_type": "code",
   "execution_count": 103,
   "metadata": {},
   "outputs": [],
   "source": [
    "x_track = sample_until_lazy(df_g[\"product_id\"], size=200, seed=1)\n",
    "track_df = pd.DataFrame({\"f\": x_track})\n",
    "track_df.to_csv(\"/Users/edwardgan/Documents/Projects/datasets/instacart/tracked.csv\", index=False)"
   ]
  },
  {
   "cell_type": "code",
   "execution_count": 105,
   "metadata": {},
   "outputs": [],
   "source": [
    "df_g[\"add_to_cart_order\"] = np.clip(df_g[\"add_to_cart_order\"], a_min=0, a_max=30)"
   ]
  },
  {
   "cell_type": "code",
   "execution_count": 106,
   "metadata": {},
   "outputs": [
    {
     "name": "stdout",
     "output_type": "stream",
     "text": [
      "10080\n"
     ]
    }
   ],
   "source": [
    "gs = df_g.groupby([\"reordered\", \"order_dow\", \"order_hour_of_day\", \"add_to_cart_order\"])\n",
    "print(len(gs))"
   ]
  },
  {
   "cell_type": "code",
   "execution_count": 53,
   "metadata": {},
   "outputs": [],
   "source": [
    "df_g[[\"product_id\", \"reordered\", \"order_dow\", \"order_hour_of_day\", \"add_to_cart_order\"]].to_feather(\n",
    "    \"/Users/edwardgan/Documents/Projects/datasets/instacart/p_df.feather\"\n",
    ")"
   ]
  },
  {
   "cell_type": "code",
   "execution_count": 233,
   "metadata": {},
   "outputs": [],
   "source": [
    "n = 32434489\n",
    "k = 200"
   ]
  },
  {
   "cell_type": "code",
   "execution_count": 3,
   "metadata": {},
   "outputs": [
    {
     "data": {
      "text/html": [
       "<div>\n",
       "<style scoped>\n",
       "    .dataframe tbody tr th:only-of-type {\n",
       "        vertical-align: middle;\n",
       "    }\n",
       "\n",
       "    .dataframe tbody tr th {\n",
       "        vertical-align: top;\n",
       "    }\n",
       "\n",
       "    .dataframe thead th {\n",
       "        text-align: right;\n",
       "    }\n",
       "</style>\n",
       "<table border=\"1\" class=\"dataframe\">\n",
       "  <thead>\n",
       "    <tr style=\"text-align: right;\">\n",
       "      <th></th>\n",
       "      <th>order_id</th>\n",
       "      <th>user_id</th>\n",
       "      <th>eval_set</th>\n",
       "      <th>order_number</th>\n",
       "      <th>order_dow</th>\n",
       "      <th>order_hour_of_day</th>\n",
       "      <th>days_since_prior_order</th>\n",
       "    </tr>\n",
       "  </thead>\n",
       "  <tbody>\n",
       "    <tr>\n",
       "      <th>0</th>\n",
       "      <td>2539329</td>\n",
       "      <td>1</td>\n",
       "      <td>prior</td>\n",
       "      <td>1</td>\n",
       "      <td>2</td>\n",
       "      <td>8</td>\n",
       "      <td>NaN</td>\n",
       "    </tr>\n",
       "    <tr>\n",
       "      <th>1</th>\n",
       "      <td>2398795</td>\n",
       "      <td>1</td>\n",
       "      <td>prior</td>\n",
       "      <td>2</td>\n",
       "      <td>3</td>\n",
       "      <td>7</td>\n",
       "      <td>15.0</td>\n",
       "    </tr>\n",
       "    <tr>\n",
       "      <th>2</th>\n",
       "      <td>473747</td>\n",
       "      <td>1</td>\n",
       "      <td>prior</td>\n",
       "      <td>3</td>\n",
       "      <td>3</td>\n",
       "      <td>12</td>\n",
       "      <td>21.0</td>\n",
       "    </tr>\n",
       "    <tr>\n",
       "      <th>3</th>\n",
       "      <td>2254736</td>\n",
       "      <td>1</td>\n",
       "      <td>prior</td>\n",
       "      <td>4</td>\n",
       "      <td>4</td>\n",
       "      <td>7</td>\n",
       "      <td>29.0</td>\n",
       "    </tr>\n",
       "    <tr>\n",
       "      <th>4</th>\n",
       "      <td>431534</td>\n",
       "      <td>1</td>\n",
       "      <td>prior</td>\n",
       "      <td>5</td>\n",
       "      <td>4</td>\n",
       "      <td>15</td>\n",
       "      <td>28.0</td>\n",
       "    </tr>\n",
       "  </tbody>\n",
       "</table>\n",
       "</div>"
      ],
      "text/plain": [
       "   order_id  user_id eval_set  order_number  order_dow  order_hour_of_day  \\\n",
       "0   2539329        1    prior             1          2                  8   \n",
       "1   2398795        1    prior             2          3                  7   \n",
       "2    473747        1    prior             3          3                 12   \n",
       "3   2254736        1    prior             4          4                  7   \n",
       "4    431534        1    prior             5          4                 15   \n",
       "\n",
       "   days_since_prior_order  \n",
       "0                     NaN  \n",
       "1                    15.0  \n",
       "2                    21.0  \n",
       "3                    29.0  \n",
       "4                    28.0  "
      ]
     },
     "execution_count": 3,
     "metadata": {},
     "output_type": "execute_result"
    }
   ],
   "source": [
    "df_orders.head()"
   ]
  },
  {
   "cell_type": "code",
   "execution_count": 46,
   "metadata": {},
   "outputs": [],
   "source": [
    "df_g = df_op[[\"order_id\", \"product_id\"]].merge(\n",
    "    df_orders[[\"order_id\", \"order_dow\", \"order_hour_of_day\"]], \n",
    "    how=\"inner\", on=[\"order_id\"]\n",
    ").sort_values(\n",
    "    [\"order_dow\", \"order_hour_of_day\"]\n",
    ").set_index(\n",
    "    [\"order_dow\", \"order_hour_of_day\"]\n",
    ")"
   ]
  },
  {
   "cell_type": "code",
   "execution_count": 90,
   "metadata": {
    "scrolled": true
   },
   "outputs": [
    {
     "name": "stderr",
     "output_type": "stream",
     "text": [
      "100%|██████████| 7/7 [00:00<00:00, 42.70it/s]\n"
     ]
    }
   ],
   "source": [
    "product_lists = []\n",
    "for day_of_week in tqdm(range(7)):\n",
    "    for hour_of_day in range(24):\n",
    "        cur_idx = (day_of_week, hour_of_day)\n",
    "        if cur_idx in df_g.index:\n",
    "            current_list = df_g.loc[cur_idx][\"product_id\"].values\n",
    "            product_lists.append(current_list)"
   ]
  },
  {
   "cell_type": "code",
   "execution_count": 91,
   "metadata": {},
   "outputs": [],
   "source": [
    "with open(\"/Users/edwardgan/Documents/Projects/datasets/instacart/products_grouped.txt\", \"w\") as f:\n",
    "    for plist in product_lists:\n",
    "        f.write(json.dumps(plist.tolist())+\"\\n\")"
   ]
  },
  {
   "cell_type": "markdown",
   "metadata": {},
   "source": [
    "# MSFT Data"
   ]
  },
  {
   "cell_type": "code",
   "execution_count": 65,
   "metadata": {},
   "outputs": [],
   "source": [
    "column_names = [\n",
    "    'PipelineInfo_IngestionTime',\n",
    " 'SDKVersion',\n",
    " 'APIVersion',\n",
    " 'DeviceHash_Id',\n",
    " 'AppInfo_Language',\n",
    " 'AppInfo_Version',\n",
    " 'DeviceInfo_Make',\n",
    " 'DeviceInfo_OsBuild',\n",
    " 'DeviceInfo_OsVersion',\n",
    " 'DeviceInfo_Model',\n",
    " 'DeviceInfo_NetworkType',\n",
    " 'DeviceInfo_NetworkProvider',\n",
    " 'UserInfo_Language',\n",
    " 'UserInfo_TimeZone',\n",
    " 'eventpriority',\n",
    " 'records_received_count',\n",
    " 'records_tried_to_send_count',\n",
    " 'records_sent_count',\n",
    " 'olsize',\n",
    " 'olsize_start',\n",
    " 'olc_start',\n",
    " 'ol_w',\n",
    " 'olc',\n",
    " 'records_dropped_count',\n",
    "#  'UserHash_Id',\n",
    " 'inq',\n",
    " 'infl',\n",
    " 'r_count',\n",
    " 'PipelineInfo_ClientCountry',\n",
    " 'EventInfo_InitId',\n",
    " 'EventInfo_Sequence',\n",
    " 'e_meth',\n",
    " 'TenantId',\n",
    " 'DataPackageId',\n",
    " 'EventInfo_Time',\n",
    " 'r_no_name',\n",
    " 'r_size',\n",
    " 'r_ban',\n",
    " 'r_kl',\n",
    " 'r_ps',\n",
    " 'r_403',\n",
    " 'r_inv',\n",
    " 'd_assert',\n",
    " 'd_bad_tenant',\n",
    " 'd_disk_full',\n",
    " 'd_io_fail',\n",
    " 'd_bond_fail',\n",
    " 'd_disk_off',\n",
    " 'd_unk']"
   ]
  },
  {
   "cell_type": "code",
   "execution_count": 125,
   "metadata": {},
   "outputs": [],
   "source": [
    "df = pd.read_csv(\n",
    "    \"/Users/edwardgan/Documents/Projects/datasets/msft/mb200k.tsv\",\n",
    "    sep=\"\\t\",\n",
    "    names=column_names\n",
    ")"
   ]
  },
  {
   "cell_type": "code",
   "execution_count": 126,
   "metadata": {},
   "outputs": [],
   "source": [
    "df[q_metric] = df[q_metric].fillna(0)"
   ]
  },
  {
   "cell_type": "code",
   "execution_count": 127,
   "metadata": {},
   "outputs": [
    {
     "name": "stderr",
     "output_type": "stream",
     "text": [
      "100%|██████████| 6/6 [00:05<00:00,  1.21it/s]\n"
     ]
    }
   ],
   "source": [
    "for cur_f in tqdm(f_metrics + dims):\n",
    "    df[cur_f] = df[cur_f].fillna(\"na\")\n",
    "    vc = df[cur_f].value_counts()\n",
    "    vc_rep = dict(zip(\n",
    "        vc.index, \n",
    "        range(len(vc))\n",
    "    ))\n",
    "    df.replace({cur_f: vc_rep}, inplace=True)"
   ]
  },
  {
   "cell_type": "code",
   "execution_count": 105,
   "metadata": {},
   "outputs": [],
   "source": [
    "f_metrics = [\n",
    "    \"DeviceInfo_OsBuild\",\n",
    "    \"DeviceInfo_NetworkProvider\"\n",
    "]\n",
    "q_metric = \"records_received_count\"\n",
    "dims = [\n",
    "    \"TenantId\",\n",
    "    \"AppInfo_Version\",\n",
    "    \"UserInfo_TimeZone\",\n",
    "    \"DeviceInfo_NetworkType\",\n",
    "]"
   ]
  },
  {
   "cell_type": "code",
   "execution_count": 130,
   "metadata": {},
   "outputs": [
    {
     "name": "stderr",
     "output_type": "stream",
     "text": [
      "/anaconda3/lib/python3.6/site-packages/pyarrow/pandas_compat.py:751: FutureWarning: .labels was deprecated in version 0.24.0. Use .codes instead.\n",
      "  labels, = index.labels\n"
     ]
    }
   ],
   "source": [
    "df = pd.read_feather(\"/Users/edwardgan/Documents/Projects/datasets/msft/mb200k.feather\")"
   ]
  },
  {
   "cell_type": "markdown",
   "metadata": {},
   "source": [
    "# Avazu Data"
   ]
  },
  {
   "cell_type": "code",
   "execution_count": 170,
   "metadata": {},
   "outputs": [],
   "source": [
    "df = pd.read_csv(\n",
    "    \"/Users/edwardgan/Documents/Projects/datasets/avazu/all/train\",\n",
    "    nrows=2000000\n",
    ")"
   ]
  },
  {
   "cell_type": "code",
   "execution_count": 191,
   "metadata": {},
   "outputs": [],
   "source": [
    "target = \"site_id\"\n",
    "dims = [\"hour\", \"click\", \"banner_pos\", \"app_category\", \"C18\", \"C21\"]\n",
    "dims = [\"hour\", \"click\", \"banner_pos\", \"app_category\", \"C18\", \"C21\"]"
   ]
  },
  {
   "cell_type": "code",
   "execution_count": 184,
   "metadata": {},
   "outputs": [
    {
     "data": {
      "text/plain": [
       "Index(['id', 'click', 'hour', 'C1', 'banner_pos', 'site_id', 'site_domain',\n",
       "       'site_category', 'app_id', 'app_domain', 'app_category', 'device_id',\n",
       "       'device_ip', 'device_model', 'device_type', 'device_conn_type', 'C14',\n",
       "       'C15', 'C16', 'C17', 'C18', 'C19', 'C20', 'C21'],\n",
       "      dtype='object')"
      ]
     },
     "execution_count": 184,
     "metadata": {},
     "output_type": "execute_result"
    }
   ],
   "source": [
    "dfh.columns"
   ]
  },
  {
   "cell_type": "code",
   "execution_count": 192,
   "metadata": {},
   "outputs": [
    {
     "data": {
      "text/plain": [
       "33984"
      ]
     },
     "execution_count": 192,
     "metadata": {},
     "output_type": "execute_result"
    }
   ],
   "source": [
    "np.max(dfg)"
   ]
  },
  {
   "cell_type": "code",
   "execution_count": 187,
   "metadata": {},
   "outputs": [
    {
     "name": "stdout",
     "output_type": "stream",
     "text": [
      "ratio: 3.5018243879472695\n",
      "num groups: 379\n"
     ]
    }
   ],
   "source": [
    "dfh = df[df[\"hour\"] == 14102100]\n",
    "dfg = dfh.groupby(dims)[\"id\"].count()\n",
    "rr = len(dfh) / np.max(dfg)\n",
    "print(\"ratio: {}\".format(rr))\n",
    "print(\"num groups: {}\".format(len(dfg)))"
   ]
  },
  {
   "cell_type": "code",
   "execution_count": 134,
   "metadata": {},
   "outputs": [
    {
     "data": {
      "text/plain": [
       "535"
      ]
     },
     "execution_count": 134,
     "metadata": {},
     "output_type": "execute_result"
    }
   ],
   "source": [
    "len(dfg)"
   ]
  },
  {
   "cell_type": "code",
   "execution_count": 135,
   "metadata": {},
   "outputs": [
    {
     "data": {
      "text/plain": [
       "120000"
      ]
     },
     "execution_count": 135,
     "metadata": {},
     "output_type": "execute_result"
    }
   ],
   "source": [
    "500*240"
   ]
  },
  {
   "cell_type": "markdown",
   "metadata": {},
   "source": [
    "# CAIDA PCap"
   ]
  },
  {
   "cell_type": "code",
   "execution_count": 27,
   "metadata": {},
   "outputs": [],
   "source": [
    "df = pd.read_csv(\"caida1M-dest-stream.csv\")"
   ]
  },
  {
   "cell_type": "code",
   "execution_count": 37,
   "metadata": {},
   "outputs": [],
   "source": [
    "x_track = np.random.choice(df[\"Destination\"],400)"
   ]
  },
  {
   "cell_type": "code",
   "execution_count": 42,
   "metadata": {},
   "outputs": [],
   "source": [
    "pd.DataFrame({\"x_track\": x_track}).to_csv(\"caida1M-xtrack.csv\", index=False)"
   ]
  },
  {
   "cell_type": "code",
   "execution_count": 6,
   "metadata": {},
   "outputs": [],
   "source": [
    "df_i = pd.read_csv(\"/Users/edwardgan/Documents/Projects/datasets/caida-pcap/time_10M.csv\")"
   ]
  },
  {
   "cell_type": "code",
   "execution_count": null,
   "metadata": {},
   "outputs": [],
   "source": [
    "df = df_i.fillna(\"eth\")\n",
    "ip_map = {}\n",
    "for i,k in enumerate(df[\"ip.dst\"].value_counts().keys()):\n",
    "    ip_map[k] = i\n",
    "mapped_dest_ips = df[\"ip.dst\"].map(ip_map)\n",
    "df_out = pd.DataFrame()\n",
    "df_out[\"ip.dst\"] = mapped_dest_ips"
   ]
  },
  {
   "cell_type": "code",
   "execution_count": null,
   "metadata": {},
   "outputs": [],
   "source": [
    "df_out.to_csv(\"/Users/edwardgan/Documents/Projects/datasets/caida-pcap/caida10M-ipdst.csv\", index=False)"
   ]
  },
  {
   "cell_type": "code",
   "execution_count": 19,
   "metadata": {},
   "outputs": [],
   "source": [
    "df_out = pd.read_csv(\"/Users/edwardgan/Documents/Projects/datasets/caida-pcap/caida10M-ipdst.csv\")"
   ]
  },
  {
   "cell_type": "code",
   "execution_count": 20,
   "metadata": {},
   "outputs": [],
   "source": [
    "x_track = sample_until_lazy(df_out[\"ip.dst\"],size=200)"
   ]
  },
  {
   "cell_type": "code",
   "execution_count": 21,
   "metadata": {},
   "outputs": [],
   "source": [
    "pd.DataFrame({\"x_track\": x_track}).to_csv(\"/Users/edwardgan/Documents/Projects/datasets/caida-pcap/caida10M-ipdst-xtrack.csv\", index=False)"
   ]
  },
  {
   "cell_type": "markdown",
   "metadata": {},
   "source": [
    "# Power"
   ]
  },
  {
   "cell_type": "code",
   "execution_count": 31,
   "metadata": {},
   "outputs": [],
   "source": [
    "df = pd.read_csv(\n",
    "    \"/Users/edwardgan/Documents/Projects/datasets/household/household_power_consumption.txt\",\n",
    "    sep=\";\",\n",
    "    na_values=[\"?\"]\n",
    ")"
   ]
  },
  {
   "cell_type": "code",
   "execution_count": 33,
   "metadata": {},
   "outputs": [],
   "source": [
    "df[[\"Global_active_power\"]].dropna().to_csv(\"/Users/edwardgan/Documents/Projects/datasets/household/power.csv\", index=False)"
   ]
  },
  {
   "cell_type": "code",
   "execution_count": 34,
   "metadata": {},
   "outputs": [],
   "source": [
    "x_to_track = np.percentile(\n",
    "    df[\"Global_active_power\"].dropna(),\n",
    "    q=np.arange(0,101),\n",
    ")"
   ]
  },
  {
   "cell_type": "code",
   "execution_count": 37,
   "metadata": {},
   "outputs": [],
   "source": [
    "pd.DataFrame({\"x_track\": x_to_track}).to_csv(\n",
    "    \"/Users/edwardgan/Documents/Projects/datasets/household/power_tracked.csv\",\n",
    "    index=False\n",
    ")"
   ]
  },
  {
   "cell_type": "markdown",
   "metadata": {},
   "source": [
    "# Zipf"
   ]
  },
  {
   "cell_type": "code",
   "execution_count": 49,
   "metadata": {},
   "outputs": [],
   "source": [
    "r = np.random.RandomState(seed=0)\n",
    "total_size = 10_000_000\n",
    "n_max = 1_000_000\n",
    "x_stream = r.zipf(1.1, size=2*total_size)\n",
    "x_stream = x_stream[x_stream < n_max][:total_size]"
   ]
  },
  {
   "cell_type": "code",
   "execution_count": 56,
   "metadata": {},
   "outputs": [],
   "source": [
    "pd.DataFrame({\"x\": x_stream}).to_csv(\"zipf10M.csv\", index=False)"
   ]
  },
  {
   "cell_type": "code",
   "execution_count": 16,
   "metadata": {},
   "outputs": [],
   "source": [
    "df = pd.read_csv(\"zipf10M.csv\")"
   ]
  },
  {
   "cell_type": "code",
   "execution_count": 17,
   "metadata": {},
   "outputs": [],
   "source": [
    "x_to_track = sample_until_lazy(df[\"x\"], size=200, seed=1)\n",
    "pd.DataFrame({\"x_track\": x_to_track}).to_csv(\"zipf10M-xtrack.csv\", index=False)"
   ]
  },
  {
   "cell_type": "code",
   "execution_count": null,
   "metadata": {},
   "outputs": [],
   "source": []
  }
 ],
 "metadata": {
  "kernelspec": {
   "display_name": "Python 3",
   "language": "python",
   "name": "python3"
  },
  "language_info": {
   "codemirror_mode": {
    "name": "ipython",
    "version": 3
   },
   "file_extension": ".py",
   "mimetype": "text/x-python",
   "name": "python",
   "nbconvert_exporter": "python",
   "pygments_lexer": "ipython3",
   "version": "3.6.8"
  }
 },
 "nbformat": 4,
 "nbformat_minor": 4
}
